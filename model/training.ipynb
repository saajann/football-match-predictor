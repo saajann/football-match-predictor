{
 "cells": [
  {
   "cell_type": "code",
   "execution_count": 1,
   "metadata": {},
   "outputs": [],
   "source": [
    "import pandas as pd"
   ]
  },
  {
   "cell_type": "code",
   "execution_count": 2,
   "metadata": {},
   "outputs": [],
   "source": [
    "matches = pd.read_csv('../data/serie_a_matches_cleaned.csv')\n",
    "league_table = pd.read_csv('../data/serie_a_league_table.csv')"
   ]
  },
  {
   "cell_type": "code",
   "execution_count": 3,
   "metadata": {},
   "outputs": [
    {
     "data": {
      "text/html": [
       "<div>\n",
       "<style scoped>\n",
       "    .dataframe tbody tr th:only-of-type {\n",
       "        vertical-align: middle;\n",
       "    }\n",
       "\n",
       "    .dataframe tbody tr th {\n",
       "        vertical-align: top;\n",
       "    }\n",
       "\n",
       "    .dataframe thead th {\n",
       "        text-align: right;\n",
       "    }\n",
       "</style>\n",
       "<table border=\"1\" class=\"dataframe\">\n",
       "  <thead>\n",
       "    <tr style=\"text-align: right;\">\n",
       "      <th></th>\n",
       "      <th>id</th>\n",
       "      <th>status</th>\n",
       "      <th>matchday</th>\n",
       "      <th>homeTeam</th>\n",
       "      <th>awayTeam</th>\n",
       "      <th>date_month</th>\n",
       "      <th>time_hour</th>\n",
       "      <th>ft_home</th>\n",
       "      <th>ft_away</th>\n",
       "      <th>ht_home</th>\n",
       "      <th>ht_away</th>\n",
       "      <th>winner</th>\n",
       "    </tr>\n",
       "  </thead>\n",
       "  <tbody>\n",
       "    <tr>\n",
       "      <th>0</th>\n",
       "      <td>503046</td>\n",
       "      <td>FINISHED</td>\n",
       "      <td>1</td>\n",
       "      <td>Genoa</td>\n",
       "      <td>Inter</td>\n",
       "      <td>8</td>\n",
       "      <td>16</td>\n",
       "      <td>2.0</td>\n",
       "      <td>2.0</td>\n",
       "      <td>1.0</td>\n",
       "      <td>1.0</td>\n",
       "      <td>1</td>\n",
       "    </tr>\n",
       "    <tr>\n",
       "      <th>1</th>\n",
       "      <td>503052</td>\n",
       "      <td>FINISHED</td>\n",
       "      <td>1</td>\n",
       "      <td>Parma</td>\n",
       "      <td>Fiorentina</td>\n",
       "      <td>8</td>\n",
       "      <td>16</td>\n",
       "      <td>1.0</td>\n",
       "      <td>1.0</td>\n",
       "      <td>1.0</td>\n",
       "      <td>0.0</td>\n",
       "      <td>1</td>\n",
       "    </tr>\n",
       "    <tr>\n",
       "      <th>2</th>\n",
       "      <td>503045</td>\n",
       "      <td>FINISHED</td>\n",
       "      <td>1</td>\n",
       "      <td>Empoli</td>\n",
       "      <td>Monza</td>\n",
       "      <td>8</td>\n",
       "      <td>18</td>\n",
       "      <td>0.0</td>\n",
       "      <td>0.0</td>\n",
       "      <td>0.0</td>\n",
       "      <td>0.0</td>\n",
       "      <td>1</td>\n",
       "    </tr>\n",
       "    <tr>\n",
       "      <th>3</th>\n",
       "      <td>503051</td>\n",
       "      <td>FINISHED</td>\n",
       "      <td>1</td>\n",
       "      <td>Milan</td>\n",
       "      <td>Torino</td>\n",
       "      <td>8</td>\n",
       "      <td>18</td>\n",
       "      <td>2.0</td>\n",
       "      <td>2.0</td>\n",
       "      <td>0.0</td>\n",
       "      <td>1.0</td>\n",
       "      <td>1</td>\n",
       "    </tr>\n",
       "    <tr>\n",
       "      <th>4</th>\n",
       "      <td>503043</td>\n",
       "      <td>FINISHED</td>\n",
       "      <td>1</td>\n",
       "      <td>Bologna</td>\n",
       "      <td>Udinese</td>\n",
       "      <td>8</td>\n",
       "      <td>16</td>\n",
       "      <td>1.0</td>\n",
       "      <td>1.0</td>\n",
       "      <td>0.0</td>\n",
       "      <td>0.0</td>\n",
       "      <td>1</td>\n",
       "    </tr>\n",
       "  </tbody>\n",
       "</table>\n",
       "</div>"
      ],
      "text/plain": [
       "       id    status  matchday homeTeam    awayTeam  date_month  time_hour  \\\n",
       "0  503046  FINISHED         1    Genoa       Inter           8         16   \n",
       "1  503052  FINISHED         1    Parma  Fiorentina           8         16   \n",
       "2  503045  FINISHED         1   Empoli       Monza           8         18   \n",
       "3  503051  FINISHED         1    Milan      Torino           8         18   \n",
       "4  503043  FINISHED         1  Bologna     Udinese           8         16   \n",
       "\n",
       "   ft_home  ft_away  ht_home  ht_away  winner  \n",
       "0      2.0      2.0      1.0      1.0       1  \n",
       "1      1.0      1.0      1.0      0.0       1  \n",
       "2      0.0      0.0      0.0      0.0       1  \n",
       "3      2.0      2.0      0.0      1.0       1  \n",
       "4      1.0      1.0      0.0      0.0       1  "
      ]
     },
     "execution_count": 3,
     "metadata": {},
     "output_type": "execute_result"
    }
   ],
   "source": [
    "matches.head()"
   ]
  },
  {
   "cell_type": "code",
   "execution_count": 12,
   "metadata": {},
   "outputs": [],
   "source": [
    "train_matches = matches[matches['matchday'].isin(range(1,20))]\n",
    "test_matches = matches[matches['matchday'].isin(range(20,39))]"
   ]
  },
  {
   "cell_type": "code",
   "execution_count": 14,
   "metadata": {},
   "outputs": [],
   "source": [
    "X_train = train_matches.drop('winner', axis=1)\n",
    "y_train = train_matches['winner']"
   ]
  },
  {
   "cell_type": "code",
   "execution_count": 20,
   "metadata": {},
   "outputs": [
    {
     "name": "stdout",
     "output_type": "stream",
     "text": [
      "<class 'pandas.core.frame.DataFrame'>\n",
      "Index: 190 entries, 0 to 199\n",
      "Data columns (total 11 columns):\n",
      " #   Column      Non-Null Count  Dtype  \n",
      "---  ------      --------------  -----  \n",
      " 0   id          190 non-null    int64  \n",
      " 1   status      190 non-null    object \n",
      " 2   matchday    190 non-null    int64  \n",
      " 3   homeTeam    190 non-null    object \n",
      " 4   awayTeam    190 non-null    object \n",
      " 5   date_month  190 non-null    int64  \n",
      " 6   time_hour   190 non-null    int64  \n",
      " 7   ft_home     186 non-null    float64\n",
      " 8   ft_away     186 non-null    float64\n",
      " 9   ht_home     185 non-null    float64\n",
      " 10  ht_away     185 non-null    float64\n",
      "dtypes: float64(4), int64(4), object(3)\n",
      "memory usage: 21.9+ KB\n"
     ]
    }
   ],
   "source": [
    "X_train.info()"
   ]
  },
  {
   "cell_type": "code",
   "execution_count": 22,
   "metadata": {},
   "outputs": [
    {
     "name": "stderr",
     "output_type": "stream",
     "text": [
      "/var/folders/8h/b6sjd9l522v8k4p6t77m8fpm0000gn/T/ipykernel_5507/172246692.py:1: FutureWarning: A value is trying to be set on a copy of a DataFrame or Series through chained assignment using an inplace method.\n",
      "The behavior will change in pandas 3.0. This inplace method will never work because the intermediate object on which we are setting values always behaves as a copy.\n",
      "\n",
      "For example, when doing 'df[col].method(value, inplace=True)', try using 'df.method({col: value}, inplace=True)' or df[col] = df[col].method(value) instead, to perform the operation inplace on the original object.\n",
      "\n",
      "\n",
      "  X_train['ft_home'].fillna(X_train['ft_home'].mean(), inplace=True)\n",
      "/var/folders/8h/b6sjd9l522v8k4p6t77m8fpm0000gn/T/ipykernel_5507/172246692.py:2: FutureWarning: A value is trying to be set on a copy of a DataFrame or Series through chained assignment using an inplace method.\n",
      "The behavior will change in pandas 3.0. This inplace method will never work because the intermediate object on which we are setting values always behaves as a copy.\n",
      "\n",
      "For example, when doing 'df[col].method(value, inplace=True)', try using 'df.method({col: value}, inplace=True)' or df[col] = df[col].method(value) instead, to perform the operation inplace on the original object.\n",
      "\n",
      "\n",
      "  X_train['ft_away'].fillna(X_train['ft_away'].mean(), inplace=True)\n",
      "/var/folders/8h/b6sjd9l522v8k4p6t77m8fpm0000gn/T/ipykernel_5507/172246692.py:3: FutureWarning: A value is trying to be set on a copy of a DataFrame or Series through chained assignment using an inplace method.\n",
      "The behavior will change in pandas 3.0. This inplace method will never work because the intermediate object on which we are setting values always behaves as a copy.\n",
      "\n",
      "For example, when doing 'df[col].method(value, inplace=True)', try using 'df.method({col: value}, inplace=True)' or df[col] = df[col].method(value) instead, to perform the operation inplace on the original object.\n",
      "\n",
      "\n",
      "  X_train['ht_home'].fillna(X_train['ht_home'].mean(), inplace=True)\n",
      "/var/folders/8h/b6sjd9l522v8k4p6t77m8fpm0000gn/T/ipykernel_5507/172246692.py:4: FutureWarning: A value is trying to be set on a copy of a DataFrame or Series through chained assignment using an inplace method.\n",
      "The behavior will change in pandas 3.0. This inplace method will never work because the intermediate object on which we are setting values always behaves as a copy.\n",
      "\n",
      "For example, when doing 'df[col].method(value, inplace=True)', try using 'df.method({col: value}, inplace=True)' or df[col] = df[col].method(value) instead, to perform the operation inplace on the original object.\n",
      "\n",
      "\n",
      "  X_train['ht_away'].fillna(X_train['ht_away'].mean(), inplace=True)\n"
     ]
    }
   ],
   "source": [
    "X_train['ft_home'].fillna(X_train['ft_home'].mean(), inplace=True)\n",
    "X_train['ft_away'].fillna(X_train['ft_away'].mean(), inplace=True)\n",
    "X_train['ht_home'].fillna(X_train['ht_home'].mean(), inplace=True)\n",
    "X_train['ht_away'].fillna(X_train['ht_away'].mean(), inplace=True)"
   ]
  },
  {
   "cell_type": "code",
   "execution_count": 23,
   "metadata": {},
   "outputs": [
    {
     "name": "stdout",
     "output_type": "stream",
     "text": [
      "<class 'pandas.core.frame.DataFrame'>\n",
      "Index: 190 entries, 0 to 199\n",
      "Data columns (total 11 columns):\n",
      " #   Column      Non-Null Count  Dtype  \n",
      "---  ------      --------------  -----  \n",
      " 0   id          190 non-null    int64  \n",
      " 1   status      190 non-null    object \n",
      " 2   matchday    190 non-null    int64  \n",
      " 3   homeTeam    190 non-null    object \n",
      " 4   awayTeam    190 non-null    object \n",
      " 5   date_month  190 non-null    int64  \n",
      " 6   time_hour   190 non-null    int64  \n",
      " 7   ft_home     190 non-null    float64\n",
      " 8   ft_away     190 non-null    float64\n",
      " 9   ht_home     190 non-null    float64\n",
      " 10  ht_away     190 non-null    float64\n",
      "dtypes: float64(4), int64(4), object(3)\n",
      "memory usage: 21.9+ KB\n"
     ]
    }
   ],
   "source": [
    "X_train.info()"
   ]
  },
  {
   "cell_type": "code",
   "execution_count": 21,
   "metadata": {},
   "outputs": [
    {
     "name": "stdout",
     "output_type": "stream",
     "text": [
      "<class 'pandas.core.series.Series'>\n",
      "Index: 190 entries, 0 to 199\n",
      "Series name: winner\n",
      "Non-Null Count  Dtype\n",
      "--------------  -----\n",
      "190 non-null    int64\n",
      "dtypes: int64(1)\n",
      "memory usage: 7.0 KB\n"
     ]
    }
   ],
   "source": [
    "y_train.info()"
   ]
  },
  {
   "cell_type": "code",
   "execution_count": 15,
   "metadata": {},
   "outputs": [],
   "source": [
    "X_test = test_matches.drop(['winner', 'status'], axis=1)"
   ]
  },
  {
   "cell_type": "code",
   "execution_count": 18,
   "metadata": {},
   "outputs": [
    {
     "data": {
      "text/html": [
       "<div>\n",
       "<style scoped>\n",
       "    .dataframe tbody tr th:only-of-type {\n",
       "        vertical-align: middle;\n",
       "    }\n",
       "\n",
       "    .dataframe tbody tr th {\n",
       "        vertical-align: top;\n",
       "    }\n",
       "\n",
       "    .dataframe thead th {\n",
       "        text-align: right;\n",
       "    }\n",
       "</style>\n",
       "<table border=\"1\" class=\"dataframe\">\n",
       "  <thead>\n",
       "    <tr style=\"text-align: right;\">\n",
       "      <th></th>\n",
       "      <th>id</th>\n",
       "      <th>status</th>\n",
       "      <th>matchday</th>\n",
       "      <th>homeTeam</th>\n",
       "      <th>awayTeam</th>\n",
       "      <th>date_month</th>\n",
       "      <th>time_hour</th>\n",
       "      <th>ft_home</th>\n",
       "      <th>ft_away</th>\n",
       "      <th>ht_home</th>\n",
       "      <th>ht_away</th>\n",
       "    </tr>\n",
       "  </thead>\n",
       "  <tbody>\n",
       "    <tr>\n",
       "      <th>187</th>\n",
       "      <td>503236</td>\n",
       "      <td>TIMED</td>\n",
       "      <td>20</td>\n",
       "      <td>Lazio</td>\n",
       "      <td>Como 1907</td>\n",
       "      <td>1</td>\n",
       "      <td>19</td>\n",
       "      <td>NaN</td>\n",
       "      <td>NaN</td>\n",
       "      <td>NaN</td>\n",
       "      <td>NaN</td>\n",
       "    </tr>\n",
       "    <tr>\n",
       "      <th>188</th>\n",
       "      <td>503234</td>\n",
       "      <td>TIMED</td>\n",
       "      <td>20</td>\n",
       "      <td>Empoli</td>\n",
       "      <td>Lecce</td>\n",
       "      <td>1</td>\n",
       "      <td>14</td>\n",
       "      <td>NaN</td>\n",
       "      <td>NaN</td>\n",
       "      <td>NaN</td>\n",
       "      <td>NaN</td>\n",
       "    </tr>\n",
       "    <tr>\n",
       "      <th>189</th>\n",
       "      <td>503241</td>\n",
       "      <td>TIMED</td>\n",
       "      <td>20</td>\n",
       "      <td>Udinese</td>\n",
       "      <td>Atalanta</td>\n",
       "      <td>1</td>\n",
       "      <td>14</td>\n",
       "      <td>NaN</td>\n",
       "      <td>NaN</td>\n",
       "      <td>NaN</td>\n",
       "      <td>NaN</td>\n",
       "    </tr>\n",
       "    <tr>\n",
       "      <th>190</th>\n",
       "      <td>503240</td>\n",
       "      <td>TIMED</td>\n",
       "      <td>20</td>\n",
       "      <td>Torino</td>\n",
       "      <td>Juventus</td>\n",
       "      <td>1</td>\n",
       "      <td>17</td>\n",
       "      <td>NaN</td>\n",
       "      <td>NaN</td>\n",
       "      <td>NaN</td>\n",
       "      <td>NaN</td>\n",
       "    </tr>\n",
       "    <tr>\n",
       "      <th>191</th>\n",
       "      <td>503237</td>\n",
       "      <td>TIMED</td>\n",
       "      <td>20</td>\n",
       "      <td>Milan</td>\n",
       "      <td>Cagliari</td>\n",
       "      <td>1</td>\n",
       "      <td>19</td>\n",
       "      <td>NaN</td>\n",
       "      <td>NaN</td>\n",
       "      <td>NaN</td>\n",
       "      <td>NaN</td>\n",
       "    </tr>\n",
       "  </tbody>\n",
       "</table>\n",
       "</div>"
      ],
      "text/plain": [
       "         id status  matchday homeTeam   awayTeam  date_month  time_hour  \\\n",
       "187  503236  TIMED        20    Lazio  Como 1907           1         19   \n",
       "188  503234  TIMED        20   Empoli      Lecce           1         14   \n",
       "189  503241  TIMED        20  Udinese   Atalanta           1         14   \n",
       "190  503240  TIMED        20   Torino   Juventus           1         17   \n",
       "191  503237  TIMED        20    Milan   Cagliari           1         19   \n",
       "\n",
       "     ft_home  ft_away  ht_home  ht_away  \n",
       "187      NaN      NaN      NaN      NaN  \n",
       "188      NaN      NaN      NaN      NaN  \n",
       "189      NaN      NaN      NaN      NaN  \n",
       "190      NaN      NaN      NaN      NaN  \n",
       "191      NaN      NaN      NaN      NaN  "
      ]
     },
     "execution_count": 18,
     "metadata": {},
     "output_type": "execute_result"
    }
   ],
   "source": [
    "X_test.head()"
   ]
  },
  {
   "cell_type": "code",
   "execution_count": 19,
   "metadata": {},
   "outputs": [
    {
     "name": "stdout",
     "output_type": "stream",
     "text": [
      "<class 'pandas.core.frame.DataFrame'>\n",
      "Index: 190 entries, 187 to 379\n",
      "Data columns (total 11 columns):\n",
      " #   Column      Non-Null Count  Dtype  \n",
      "---  ------      --------------  -----  \n",
      " 0   id          190 non-null    int64  \n",
      " 1   status      190 non-null    object \n",
      " 2   matchday    190 non-null    int64  \n",
      " 3   homeTeam    190 non-null    object \n",
      " 4   awayTeam    190 non-null    object \n",
      " 5   date_month  190 non-null    int64  \n",
      " 6   time_hour   190 non-null    int64  \n",
      " 7   ft_home     0 non-null      float64\n",
      " 8   ft_away     0 non-null      float64\n",
      " 9   ht_home     0 non-null      float64\n",
      " 10  ht_away     0 non-null      float64\n",
      "dtypes: float64(4), int64(4), object(3)\n",
      "memory usage: 17.8+ KB\n"
     ]
    }
   ],
   "source": [
    "X_test.info()"
   ]
  },
  {
   "cell_type": "code",
   "execution_count": null,
   "metadata": {},
   "outputs": [],
   "source": [
    "from sklearn.preprocessing import LabelEncoder"
   ]
  }
 ],
 "metadata": {
  "kernelspec": {
   "display_name": "Python 3",
   "language": "python",
   "name": "python3"
  },
  "language_info": {
   "codemirror_mode": {
    "name": "ipython",
    "version": 3
   },
   "file_extension": ".py",
   "mimetype": "text/x-python",
   "name": "python",
   "nbconvert_exporter": "python",
   "pygments_lexer": "ipython3",
   "version": "3.12.6"
  }
 },
 "nbformat": 4,
 "nbformat_minor": 2
}
