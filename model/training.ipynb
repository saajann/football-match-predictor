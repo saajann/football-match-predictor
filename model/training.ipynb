{
 "cells": [
  {
   "cell_type": "code",
   "execution_count": 1,
   "metadata": {},
   "outputs": [],
   "source": [
    "import pandas as pd"
   ]
  },
  {
   "cell_type": "code",
   "execution_count": 2,
   "metadata": {},
   "outputs": [],
   "source": [
    "matches = pd.read_csv('../data/serie_a_matches_cleaned.csv')\n",
    "league_table = pd.read_csv('../data/serie_a_league_table.csv')"
   ]
  },
  {
   "cell_type": "code",
   "execution_count": 3,
   "metadata": {},
   "outputs": [
    {
     "data": {
      "text/html": [
       "<div>\n",
       "<style scoped>\n",
       "    .dataframe tbody tr th:only-of-type {\n",
       "        vertical-align: middle;\n",
       "    }\n",
       "\n",
       "    .dataframe tbody tr th {\n",
       "        vertical-align: top;\n",
       "    }\n",
       "\n",
       "    .dataframe thead th {\n",
       "        text-align: right;\n",
       "    }\n",
       "</style>\n",
       "<table border=\"1\" class=\"dataframe\">\n",
       "  <thead>\n",
       "    <tr style=\"text-align: right;\">\n",
       "      <th></th>\n",
       "      <th>id</th>\n",
       "      <th>status</th>\n",
       "      <th>matchday</th>\n",
       "      <th>homeTeam</th>\n",
       "      <th>awayTeam</th>\n",
       "      <th>date_month</th>\n",
       "      <th>time_hour</th>\n",
       "      <th>ft_home</th>\n",
       "      <th>ft_away</th>\n",
       "      <th>ht_home</th>\n",
       "      <th>ht_away</th>\n",
       "      <th>winner</th>\n",
       "    </tr>\n",
       "  </thead>\n",
       "  <tbody>\n",
       "    <tr>\n",
       "      <th>0</th>\n",
       "      <td>503046</td>\n",
       "      <td>FINISHED</td>\n",
       "      <td>1</td>\n",
       "      <td>Genoa</td>\n",
       "      <td>Inter</td>\n",
       "      <td>8</td>\n",
       "      <td>16</td>\n",
       "      <td>2.0</td>\n",
       "      <td>2.0</td>\n",
       "      <td>1.0</td>\n",
       "      <td>1.0</td>\n",
       "      <td>1</td>\n",
       "    </tr>\n",
       "    <tr>\n",
       "      <th>1</th>\n",
       "      <td>503052</td>\n",
       "      <td>FINISHED</td>\n",
       "      <td>1</td>\n",
       "      <td>Parma</td>\n",
       "      <td>Fiorentina</td>\n",
       "      <td>8</td>\n",
       "      <td>16</td>\n",
       "      <td>1.0</td>\n",
       "      <td>1.0</td>\n",
       "      <td>1.0</td>\n",
       "      <td>0.0</td>\n",
       "      <td>1</td>\n",
       "    </tr>\n",
       "    <tr>\n",
       "      <th>2</th>\n",
       "      <td>503045</td>\n",
       "      <td>FINISHED</td>\n",
       "      <td>1</td>\n",
       "      <td>Empoli</td>\n",
       "      <td>Monza</td>\n",
       "      <td>8</td>\n",
       "      <td>18</td>\n",
       "      <td>0.0</td>\n",
       "      <td>0.0</td>\n",
       "      <td>0.0</td>\n",
       "      <td>0.0</td>\n",
       "      <td>1</td>\n",
       "    </tr>\n",
       "    <tr>\n",
       "      <th>3</th>\n",
       "      <td>503051</td>\n",
       "      <td>FINISHED</td>\n",
       "      <td>1</td>\n",
       "      <td>Milan</td>\n",
       "      <td>Torino</td>\n",
       "      <td>8</td>\n",
       "      <td>18</td>\n",
       "      <td>2.0</td>\n",
       "      <td>2.0</td>\n",
       "      <td>0.0</td>\n",
       "      <td>1.0</td>\n",
       "      <td>1</td>\n",
       "    </tr>\n",
       "    <tr>\n",
       "      <th>4</th>\n",
       "      <td>503043</td>\n",
       "      <td>FINISHED</td>\n",
       "      <td>1</td>\n",
       "      <td>Bologna</td>\n",
       "      <td>Udinese</td>\n",
       "      <td>8</td>\n",
       "      <td>16</td>\n",
       "      <td>1.0</td>\n",
       "      <td>1.0</td>\n",
       "      <td>0.0</td>\n",
       "      <td>0.0</td>\n",
       "      <td>1</td>\n",
       "    </tr>\n",
       "  </tbody>\n",
       "</table>\n",
       "</div>"
      ],
      "text/plain": [
       "       id    status  matchday homeTeam    awayTeam  date_month  time_hour  \\\n",
       "0  503046  FINISHED         1    Genoa       Inter           8         16   \n",
       "1  503052  FINISHED         1    Parma  Fiorentina           8         16   \n",
       "2  503045  FINISHED         1   Empoli       Monza           8         18   \n",
       "3  503051  FINISHED         1    Milan      Torino           8         18   \n",
       "4  503043  FINISHED         1  Bologna     Udinese           8         16   \n",
       "\n",
       "   ft_home  ft_away  ht_home  ht_away  winner  \n",
       "0      2.0      2.0      1.0      1.0       1  \n",
       "1      1.0      1.0      1.0      0.0       1  \n",
       "2      0.0      0.0      0.0      0.0       1  \n",
       "3      2.0      2.0      0.0      1.0       1  \n",
       "4      1.0      1.0      0.0      0.0       1  "
      ]
     },
     "execution_count": 3,
     "metadata": {},
     "output_type": "execute_result"
    }
   ],
   "source": [
    "matches.head()"
   ]
  },
  {
   "cell_type": "code",
   "execution_count": 5,
   "metadata": {},
   "outputs": [],
   "source": [
    "X = matches.drop('winner',axis=1)\n",
    "y = matches['winner']"
   ]
  },
  {
   "cell_type": "code",
   "execution_count": 6,
   "metadata": {},
   "outputs": [],
   "source": [
    "X_train = X[X['matchday'].isin(range(1,19))]"
   ]
  },
  {
   "cell_type": "code",
   "execution_count": 7,
   "metadata": {},
   "outputs": [
    {
     "name": "stdout",
     "output_type": "stream",
     "text": [
      "<class 'pandas.core.frame.DataFrame'>\n",
      "Index: 180 entries, 0 to 179\n",
      "Data columns (total 11 columns):\n",
      " #   Column      Non-Null Count  Dtype  \n",
      "---  ------      --------------  -----  \n",
      " 0   id          180 non-null    int64  \n",
      " 1   status      180 non-null    object \n",
      " 2   matchday    180 non-null    int64  \n",
      " 3   homeTeam    180 non-null    object \n",
      " 4   awayTeam    180 non-null    object \n",
      " 5   date_month  180 non-null    int64  \n",
      " 6   time_hour   180 non-null    int64  \n",
      " 7   ft_home     179 non-null    float64\n",
      " 8   ft_away     179 non-null    float64\n",
      " 9   ht_home     178 non-null    float64\n",
      " 10  ht_away     178 non-null    float64\n",
      "dtypes: float64(4), int64(4), object(3)\n",
      "memory usage: 16.9+ KB\n"
     ]
    }
   ],
   "source": [
    "X_train.info()"
   ]
  },
  {
   "cell_type": "code",
   "execution_count": null,
   "metadata": {},
   "outputs": [],
   "source": []
  }
 ],
 "metadata": {
  "kernelspec": {
   "display_name": "Python 3",
   "language": "python",
   "name": "python3"
  },
  "language_info": {
   "codemirror_mode": {
    "name": "ipython",
    "version": 3
   },
   "file_extension": ".py",
   "mimetype": "text/x-python",
   "name": "python",
   "nbconvert_exporter": "python",
   "pygments_lexer": "ipython3",
   "version": "3.12.6"
  }
 },
 "nbformat": 4,
 "nbformat_minor": 2
}
