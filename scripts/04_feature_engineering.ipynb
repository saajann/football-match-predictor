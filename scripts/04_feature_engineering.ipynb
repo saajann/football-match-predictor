{
 "cells": [
  {
   "cell_type": "code",
   "execution_count": 1,
   "metadata": {},
   "outputs": [],
   "source": [
    "import pandas as pd\n",
    "import seaborn as sns"
   ]
  },
  {
   "cell_type": "code",
   "execution_count": 2,
   "metadata": {},
   "outputs": [],
   "source": [
    "matches = pd.read_csv('../data/serie_a_matches_cleaned.csv')\n",
    "league_table = pd.read_csv('../data/serie_a_league_table.csv')"
   ]
  },
  {
   "cell_type": "code",
   "execution_count": 3,
   "metadata": {},
   "outputs": [
    {
     "name": "stdout",
     "output_type": "stream",
     "text": [
      "<class 'pandas.core.frame.DataFrame'>\n",
      "RangeIndex: 380 entries, 0 to 379\n",
      "Data columns (total 12 columns):\n",
      " #   Column      Non-Null Count  Dtype  \n",
      "---  ------      --------------  -----  \n",
      " 0   id          380 non-null    int64  \n",
      " 1   status      380 non-null    object \n",
      " 2   matchday    380 non-null    int64  \n",
      " 3   homeTeam    380 non-null    object \n",
      " 4   awayTeam    380 non-null    object \n",
      " 5   date_month  380 non-null    int64  \n",
      " 6   time_hour   380 non-null    int64  \n",
      " 7   ft_home     186 non-null    float64\n",
      " 8   ft_away     186 non-null    float64\n",
      " 9   ht_home     185 non-null    float64\n",
      " 10  ht_away     185 non-null    float64\n",
      " 11  winner      380 non-null    int64  \n",
      "dtypes: float64(4), int64(5), object(3)\n",
      "memory usage: 35.8+ KB\n"
     ]
    }
   ],
   "source": [
    "matches.info()"
   ]
  },
  {
   "cell_type": "code",
   "execution_count": 4,
   "metadata": {},
   "outputs": [
    {
     "data": {
      "text/plain": [
       "<Axes: xlabel='status', ylabel='count'>"
      ]
     },
     "execution_count": 4,
     "metadata": {},
     "output_type": "execute_result"
    },
    {
     "data": {
      "image/png": "[encoded data removed]",
      "text/plain": [
       "<Figure size 640x480 with 1 Axes>"
      ]
     },
     "metadata": {},
     "output_type": "display_data"
    }
   ],
   "source": [
    "sns.countplot(data=matches, x='status')"
   ]
  },
  {
   "cell_type": "code",
   "execution_count": 5,
   "metadata": {},
   "outputs": [],
   "source": [
    "matches_played = matches[matches['status'] == 'FINISHED']\n",
    "matches_to_play = matches[matches['status'] != 'FINISHED']"
   ]
  },
  {
   "cell_type": "code",
   "execution_count": 6,
   "metadata": {},
   "outputs": [
    {
     "name": "stdout",
     "output_type": "stream",
     "text": [
      "<class 'pandas.core.frame.DataFrame'>\n",
      "Index: 185 entries, 0 to 186\n",
      "Data columns (total 12 columns):\n",
      " #   Column      Non-Null Count  Dtype  \n",
      "---  ------      --------------  -----  \n",
      " 0   id          185 non-null    int64  \n",
      " 1   status      185 non-null    object \n",
      " 2   matchday    185 non-null    int64  \n",
      " 3   homeTeam    185 non-null    object \n",
      " 4   awayTeam    185 non-null    object \n",
      " 5   date_month  185 non-null    int64  \n",
      " 6   time_hour   185 non-null    int64  \n",
      " 7   ft_home     185 non-null    float64\n",
      " 8   ft_away     185 non-null    float64\n",
      " 9   ht_home     185 non-null    float64\n",
      " 10  ht_away     185 non-null    float64\n",
      " 11  winner      185 non-null    int64  \n",
      "dtypes: float64(4), int64(5), object(3)\n",
      "memory usage: 18.8+ KB\n"
     ]
    }
   ],
   "source": [
    "matches_played.info()"
   ]
  },
  {
   "cell_type": "code",
   "execution_count": 7,
   "metadata": {},
   "outputs": [
    {
     "name": "stdout",
     "output_type": "stream",
     "text": [
      "<class 'pandas.core.frame.DataFrame'>\n",
      "Index: 195 entries, 82 to 379\n",
      "Data columns (total 12 columns):\n",
      " #   Column      Non-Null Count  Dtype  \n",
      "---  ------      --------------  -----  \n",
      " 0   id          195 non-null    int64  \n",
      " 1   status      195 non-null    object \n",
      " 2   matchday    195 non-null    int64  \n",
      " 3   homeTeam    195 non-null    object \n",
      " 4   awayTeam    195 non-null    object \n",
      " 5   date_month  195 non-null    int64  \n",
      " 6   time_hour   195 non-null    int64  \n",
      " 7   ft_home     1 non-null      float64\n",
      " 8   ft_away     1 non-null      float64\n",
      " 9   ht_home     0 non-null      float64\n",
      " 10  ht_away     0 non-null      float64\n",
      " 11  winner      195 non-null    int64  \n",
      "dtypes: float64(4), int64(5), object(3)\n",
      "memory usage: 19.8+ KB\n"
     ]
    }
   ],
   "source": [
    "matches_to_play.info()"
   ]
  },
  {
   "cell_type": "code",
   "execution_count": 8,
   "metadata": {},
   "outputs": [],
   "source": [
    "# Merge home team league position and goals\n",
    "matches = matches.merge(league_table[['team', 'leaguePosition', 'goalScored', 'goalConceded']], left_on='homeTeam', right_on='team', how='left')\n",
    "matches.rename(columns={'leaguePosition': 'homeLeaguePosition', 'goalScored': 'homeGoalsScored', 'goalConceded': 'homeGoalsConceded'}, inplace=True)\n",
    "matches.drop(columns=['team'], inplace=True)\n",
    "\n",
    "# Merge away team league position and goals\n",
    "matches = matches.merge(league_table[['team', 'leaguePosition', 'goalScored', 'goalConceded']], left_on='awayTeam', right_on='team', how='left')\n",
    "matches.rename(columns={'leaguePosition': 'awayLeaguePosition', 'goalScored': 'awayGoalsScored', 'goalConceded': 'awayGoalsConceded'}, inplace=True)\n",
    "matches.drop(columns=['team'], inplace=True)\n"
   ]
  },
  {
   "cell_type": "code",
   "execution_count": 7,
   "metadata": {},
   "outputs": [
    {
     "data": {
      "text/html": [
       "<div>\n",
       "<style scoped>\n",
       "    .dataframe tbody tr th:only-of-type {\n",
       "        vertical-align: middle;\n",
       "    }\n",
       "\n",
       "    .dataframe tbody tr th {\n",
       "        vertical-align: top;\n",
       "    }\n",
       "\n",
       "    .dataframe thead th {\n",
       "        text-align: right;\n",
       "    }\n",
       "</style>\n",
       "<table border=\"1\" class=\"dataframe\">\n",
       "  <thead>\n",
       "    <tr style=\"text-align: right;\">\n",
       "      <th></th>\n",
       "      <th>id</th>\n",
       "      <th>status</th>\n",
       "      <th>matchday</th>\n",
       "      <th>homeTeam</th>\n",
       "      <th>awayTeam</th>\n",
       "      <th>date_month</th>\n",
       "      <th>time_hour</th>\n",
       "      <th>ft_home</th>\n",
       "      <th>ft_away</th>\n",
       "      <th>ht_home</th>\n",
       "      <th>ht_away</th>\n",
       "      <th>winner</th>\n",
       "    </tr>\n",
       "  </thead>\n",
       "  <tbody>\n",
       "    <tr>\n",
       "      <th>0</th>\n",
       "      <td>503046</td>\n",
       "      <td>FINISHED</td>\n",
       "      <td>1</td>\n",
       "      <td>Genoa</td>\n",
       "      <td>Inter</td>\n",
       "      <td>8</td>\n",
       "      <td>16</td>\n",
       "      <td>2.0</td>\n",
       "      <td>2.0</td>\n",
       "      <td>1.0</td>\n",
       "      <td>1.0</td>\n",
       "      <td>1</td>\n",
       "    </tr>\n",
       "    <tr>\n",
       "      <th>1</th>\n",
       "      <td>503052</td>\n",
       "      <td>FINISHED</td>\n",
       "      <td>1</td>\n",
       "      <td>Parma</td>\n",
       "      <td>Fiorentina</td>\n",
       "      <td>8</td>\n",
       "      <td>16</td>\n",
       "      <td>1.0</td>\n",
       "      <td>1.0</td>\n",
       "      <td>1.0</td>\n",
       "      <td>0.0</td>\n",
       "      <td>1</td>\n",
       "    </tr>\n",
       "    <tr>\n",
       "      <th>2</th>\n",
       "      <td>503045</td>\n",
       "      <td>FINISHED</td>\n",
       "      <td>1</td>\n",
       "      <td>Empoli</td>\n",
       "      <td>Monza</td>\n",
       "      <td>8</td>\n",
       "      <td>18</td>\n",
       "      <td>0.0</td>\n",
       "      <td>0.0</td>\n",
       "      <td>0.0</td>\n",
       "      <td>0.0</td>\n",
       "      <td>1</td>\n",
       "    </tr>\n",
       "    <tr>\n",
       "      <th>3</th>\n",
       "      <td>503051</td>\n",
       "      <td>FINISHED</td>\n",
       "      <td>1</td>\n",
       "      <td>Milan</td>\n",
       "      <td>Torino</td>\n",
       "      <td>8</td>\n",
       "      <td>18</td>\n",
       "      <td>2.0</td>\n",
       "      <td>2.0</td>\n",
       "      <td>0.0</td>\n",
       "      <td>1.0</td>\n",
       "      <td>1</td>\n",
       "    </tr>\n",
       "    <tr>\n",
       "      <th>4</th>\n",
       "      <td>503043</td>\n",
       "      <td>FINISHED</td>\n",
       "      <td>1</td>\n",
       "      <td>Bologna</td>\n",
       "      <td>Udinese</td>\n",
       "      <td>8</td>\n",
       "      <td>16</td>\n",
       "      <td>1.0</td>\n",
       "      <td>1.0</td>\n",
       "      <td>0.0</td>\n",
       "      <td>0.0</td>\n",
       "      <td>1</td>\n",
       "    </tr>\n",
       "    <tr>\n",
       "      <th>...</th>\n",
       "      <td>...</td>\n",
       "      <td>...</td>\n",
       "      <td>...</td>\n",
       "      <td>...</td>\n",
       "      <td>...</td>\n",
       "      <td>...</td>\n",
       "      <td>...</td>\n",
       "      <td>...</td>\n",
       "      <td>...</td>\n",
       "      <td>...</td>\n",
       "      <td>...</td>\n",
       "      <td>...</td>\n",
       "    </tr>\n",
       "    <tr>\n",
       "      <th>375</th>\n",
       "      <td>503418</td>\n",
       "      <td>SCHEDULED</td>\n",
       "      <td>38</td>\n",
       "      <td>Milan</td>\n",
       "      <td>Monza</td>\n",
       "      <td>5</td>\n",
       "      <td>0</td>\n",
       "      <td>NaN</td>\n",
       "      <td>NaN</td>\n",
       "      <td>NaN</td>\n",
       "      <td>NaN</td>\n",
       "      <td>2</td>\n",
       "    </tr>\n",
       "    <tr>\n",
       "      <th>376</th>\n",
       "      <td>503419</td>\n",
       "      <td>SCHEDULED</td>\n",
       "      <td>38</td>\n",
       "      <td>Napoli</td>\n",
       "      <td>Cagliari</td>\n",
       "      <td>5</td>\n",
       "      <td>0</td>\n",
       "      <td>NaN</td>\n",
       "      <td>NaN</td>\n",
       "      <td>NaN</td>\n",
       "      <td>NaN</td>\n",
       "      <td>2</td>\n",
       "    </tr>\n",
       "    <tr>\n",
       "      <th>377</th>\n",
       "      <td>503420</td>\n",
       "      <td>SCHEDULED</td>\n",
       "      <td>38</td>\n",
       "      <td>Torino</td>\n",
       "      <td>Roma</td>\n",
       "      <td>5</td>\n",
       "      <td>0</td>\n",
       "      <td>NaN</td>\n",
       "      <td>NaN</td>\n",
       "      <td>NaN</td>\n",
       "      <td>NaN</td>\n",
       "      <td>2</td>\n",
       "    </tr>\n",
       "    <tr>\n",
       "      <th>378</th>\n",
       "      <td>503421</td>\n",
       "      <td>SCHEDULED</td>\n",
       "      <td>38</td>\n",
       "      <td>Udinese</td>\n",
       "      <td>Fiorentina</td>\n",
       "      <td>5</td>\n",
       "      <td>0</td>\n",
       "      <td>NaN</td>\n",
       "      <td>NaN</td>\n",
       "      <td>NaN</td>\n",
       "      <td>NaN</td>\n",
       "      <td>2</td>\n",
       "    </tr>\n",
       "    <tr>\n",
       "      <th>379</th>\n",
       "      <td>503422</td>\n",
       "      <td>SCHEDULED</td>\n",
       "      <td>38</td>\n",
       "      <td>Venezia FC</td>\n",
       "      <td>Juventus</td>\n",
       "      <td>5</td>\n",
       "      <td>0</td>\n",
       "      <td>NaN</td>\n",
       "      <td>NaN</td>\n",
       "      <td>NaN</td>\n",
       "      <td>NaN</td>\n",
       "      <td>2</td>\n",
       "    </tr>\n",
       "  </tbody>\n",
       "</table>\n",
       "<p>380 rows × 12 columns</p>\n",
       "</div>"
      ],
      "text/plain": [
       "         id     status  matchday    homeTeam    awayTeam  date_month  \\\n",
       "0    503046   FINISHED         1       Genoa       Inter           8   \n",
       "1    503052   FINISHED         1       Parma  Fiorentina           8   \n",
       "2    503045   FINISHED         1      Empoli       Monza           8   \n",
       "3    503051   FINISHED         1       Milan      Torino           8   \n",
       "4    503043   FINISHED         1     Bologna     Udinese           8   \n",
       "..      ...        ...       ...         ...         ...         ...   \n",
       "375  503418  SCHEDULED        38       Milan       Monza           5   \n",
       "376  503419  SCHEDULED        38      Napoli    Cagliari           5   \n",
       "377  503420  SCHEDULED        38      Torino        Roma           5   \n",
       "378  503421  SCHEDULED        38     Udinese  Fiorentina           5   \n",
       "379  503422  SCHEDULED        38  Venezia FC    Juventus           5   \n",
       "\n",
       "     time_hour  ft_home  ft_away  ht_home  ht_away  winner  \n",
       "0           16      2.0      2.0      1.0      1.0       1  \n",
       "1           16      1.0      1.0      1.0      0.0       1  \n",
       "2           18      0.0      0.0      0.0      0.0       1  \n",
       "3           18      2.0      2.0      0.0      1.0       1  \n",
       "4           16      1.0      1.0      0.0      0.0       1  \n",
       "..         ...      ...      ...      ...      ...     ...  \n",
       "375          0      NaN      NaN      NaN      NaN       2  \n",
       "376          0      NaN      NaN      NaN      NaN       2  \n",
       "377          0      NaN      NaN      NaN      NaN       2  \n",
       "378          0      NaN      NaN      NaN      NaN       2  \n",
       "379          0      NaN      NaN      NaN      NaN       2  \n",
       "\n",
       "[380 rows x 12 columns]"
      ]
     },
     "execution_count": 7,
     "metadata": {},
     "output_type": "execute_result"
    }
   ],
   "source": [
    "matches"
   ]
  },
  {
   "cell_type": "code",
   "execution_count": null,
   "metadata": {},
   "outputs": [],
   "source": []
  }
 ],
 "metadata": {
  "kernelspec": {
   "display_name": "Python 3",
   "language": "python",
   "name": "python3"
  },
  "language_info": {
   "codemirror_mode": {
    "name": "ipython",
    "version": 3
   },
   "file_extension": ".py",
   "mimetype": "text/x-python",
   "name": "python",
   "nbconvert_exporter": "python",
   "pygments_lexer": "ipython3",
   "version": "3.12.6"
  }
 },
 "nbformat": 4,
 "nbformat_minor": 2
}
